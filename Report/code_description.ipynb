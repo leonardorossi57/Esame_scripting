{
 "cells": [
  {
   "cell_type": "markdown",
   "metadata": {},
   "source": [
    "# Simulation and data analysis for an optics experiment about spatial coherence\n",
    "\n",
    "In the latex report I described the physics of the experiment, presenting the results obtained with the simulation. In this notebook, I will describe the main features of the code in greater detail."
   ]
  }
 ],
 "metadata": {
  "language_info": {
   "name": "python"
  }
 },
 "nbformat": 4,
 "nbformat_minor": 2
}
